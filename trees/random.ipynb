{
 "cells": [
  {
   "cell_type": "markdown",
   "metadata": {},
   "source": [
    "# Reading NEHX trees into matrices \n"
   ]
  },
  {
   "cell_type": "code",
   "execution_count": 2,
   "metadata": {},
   "outputs": [],
   "source": [
    "from Bio import Phylo\n",
    "from io import StringIO\n",
    "import pandas as pd\n",
    "import numpy as np\n",
    "import h5py\n",
    "from scipy.sparse import csr_matrix, save_npz\n",
    "import os\n",
    "import sys\n"
   ]
  },
  {
   "cell_type": "code",
   "execution_count": null,
   "metadata": {},
   "outputs": [],
   "source": [
    "import pandas as pd\n",
    "species_id = pd.read_csv(\"species_id.csv\", header=None, index_col=1)\n",
    "species_id.columns = [\"species\"]\n",
    "species_id.index.name = \"id\"\n",
    "\n",
    "species_id_dict = species_id.to_dict()\n",
    "species_id_dict = species_id_dict[\"species\"]\n",
    "# species_id_dict"
   ]
  },
  {
   "cell_type": "code",
   "execution_count": null,
   "metadata": {},
   "outputs": [],
   "source": [
    "def get_ancestors(node, species_name, matrix, row, col, adjacency_df):\n",
    "    try:\n",
    "        ancestor = adjacency_df.loc[adjacency_df[node] == 1].index[0]\n",
    "    except:\n",
    "        ancestor = None\n",
    "    if ancestor != None:\n",
    "        matrix[row.index(ancestor), col.index(species_name)] = 1\n",
    "        return get_ancestors(ancestor, species_name, matrix, row, col, adjacency_df)"
   ]
  },
  {
   "cell_type": "code",
   "execution_count": null,
   "metadata": {},
   "outputs": [],
   "source": [
    "# i feel like you don't need to store data, since it's all 1's\n",
    "\n",
    "def create_h5_file(matrix, matrix_name, output_dir, count, row, column=\"\"):\n",
    "    with h5py.File(f\"{output_dir}/{matrix_name}_{count}.h5\", \"w\") as f:\n",
    "        matrix_sparse = csr_matrix(matrix)\n",
    "        # f.create_dataset(f'{matrix_name}_data', data=matrix_sparse.data, compression=\"gzip\", compression_opts=9)\n",
    "        f.create_dataset(f'{matrix_name}_indices', data=matrix_sparse.indices, compression=\"gzip\", compression_opts=9)\n",
    "        f.create_dataset(f'{matrix_name}_indptr', data=matrix_sparse.indptr, compression=\"gzip\", compression_opts=9)\n",
    "        f.create_dataset(f'{matrix_name}_shape', data=matrix_sparse.shape, compression=\"gzip\", compression_opts=9)\n",
    "        f.create_dataset(f'{matrix_name}_rows', data=np.array(row, dtype='S'), compression=\"gzip\", compression_opts=9)\n",
    "        if column:\n",
    "            f.create_dataset(f'{matrix_name}_columns', data=np.array(column, dtype='S'), compression=\"gzip\", compression_opts=9)\n"
   ]
  },
  {
   "cell_type": "code",
   "execution_count": null,
   "metadata": {},
   "outputs": [],
   "source": [
    "def create_matrices(tree_str, species_id_dict, count=1, print_tree=False, save_files=False, output_dir=\".\"):\n",
    "    # tic = time.perf_counter()\n",
    "    tree = Phylo.read(StringIO(tree_str), \"newick\")\n",
    "    node = 0\n",
    "    num_nodes = 0\n",
    "    internal_nodes = 0\n",
    "    terminal_nodes = 0\n",
    "    event_row = []\n",
    "    species_row = [] # ids \n",
    "    species_col = [] # names\n",
    "    species_internal_row = []\n",
    "    \n",
    "    # initialize events, species, and adjacency matrix\n",
    "    for clade in tree.find_clades():\n",
    "        num_nodes += 1\n",
    "        if clade.name == None:\n",
    "            clade.name = str(internal_nodes)\n",
    "            internal_nodes += 1\n",
    "            species_internal_row.append(clade.name)\n",
    "        else:\n",
    "            terminal_nodes += 1\n",
    "            species_row.append(clade.name)\n",
    "            try:\n",
    "                species_name = species_id_dict[clade.name]\n",
    "            except:\n",
    "                species_name = clade.name\n",
    "            species_col.append(species_name)\n",
    "        event_row.append(clade.name)\n",
    "        \n",
    "    event_columns = [\"leaf\", \"duplication\", \"speciation\"]\n",
    "    events = np.zeros((num_nodes, 3))\n",
    "    species = np.zeros((terminal_nodes, len(species_row))) \n",
    "    # adjacency matrix\n",
    "    parent = event_row.copy()\n",
    "    adjacency = np.zeros((len(parent), len(parent)))\n",
    "    # internal - species matrix\n",
    "    species_internal = np.zeros((internal_nodes, len(species_row)))\n",
    "\n",
    "    # fill out matrices\n",
    "    for clade in tree.find_clades():\n",
    "        if ':[' in clade.name:\n",
    "            name, nhx_string = clade.name.split(':[')\n",
    "            nhx_tags = nhx_string.rstrip(']').split(':')\n",
    "            nhx_data = {}\n",
    "            for tag in nhx_tags:\n",
    "                key, value = tag.split('=')\n",
    "                nhx_data[key] = value\n",
    "            clade.name = name\n",
    "            clade.comment = str(nhx_data)\n",
    "\n",
    "        # Event matrix\n",
    "        # row = node, column = event type\n",
    "        if str(clade.name).isdigit(): # internal node\n",
    "            if \"D=Y\" in clade.comment: # duplication\n",
    "                events[node] = [0, 1, 0]\n",
    "            elif \"D=N\" in clade.comment: # speciation\n",
    "                events[node] = [0, 0, 1]\n",
    "            else: # idk, throw a warning?\n",
    "                break\n",
    "        else: # leaf node\n",
    "            events[node] = [1, 0, 0]\n",
    "\n",
    "        # Species matrix\n",
    "        # row = species, column = species name\n",
    "        if clade.name in species_row:\n",
    "            try:\n",
    "                species_name = species_id_dict[clade.name]\n",
    "                species[species_row.index(clade.name), species_col.index(species_name)] = 1\n",
    "            except:\n",
    "                pass # species isn't defined in SEQ, will not have entry in species, [FIX LATER]            \n",
    "        node += 1\n",
    "    # Adjacency matrix\n",
    "    # row = parent, column = child\n",
    "    for clade in tree.get_nonterminals():\n",
    "        parent_node = clade.name\n",
    "        children = [child.name for child in clade.clades]\n",
    "        for child in children:\n",
    "            adjacency[parent.index(parent_node), parent.index(child)] = 1\n",
    "\n",
    "    # Fill out species-internal node matrix\n",
    "    # row = internal node, column = species\n",
    "    adjacency_df = pd.DataFrame(adjacency, index=parent, columns=parent)\n",
    "    for leaf in tree.get_terminals():\n",
    "        species_name = species_id_dict[leaf.name]\n",
    "        get_ancestors(leaf.name, species_name, species_internal, species_internal_row, species_col, adjacency_df)\n",
    "    \n",
    "    # Draw tree\n",
    "    # add speciation / duplication events\n",
    "    if print_tree:\n",
    "        # for clade in tree.find_clades():\n",
    "        #     if clade.name.isdigit():\n",
    "        #         if \"D=Y\" in clade.comment:\n",
    "        #             clade.name += \"(D)\"\n",
    "        #         elif \"D=N\" in clade.comment:\n",
    "        #             clade.name += \"(S)\"\n",
    "        Phylo.draw(tree)\n",
    "                \n",
    "    if save_files:\n",
    "        if not os.path.exists(f\"{output_dir}/\"):\n",
    "            os.makedirs(f\"{output_dir}/\")\n",
    "        create_h5_file(events, \"events\", output_dir, count, event_row, event_columns)\n",
    "        create_h5_file(species, \"species\", output_dir, count, species_row, species_col)\n",
    "        create_h5_file(adjacency, \"adjacency\", output_dir, count, parent)\n",
    "        create_h5_file(species_internal, \"species_internal\", output_dir, count, species_internal_row)\n",
    "\n",
    "        # with h5py.File(f\"{output_dir}/event_{count}.h5\", \"w\") as f:\n",
    "        #     event_sparse = csr_matrix(events)\n",
    "        #     f.create_dataset('events_data', data=event_sparse.data, compression=\"gzip\", compression_opts=9)\n",
    "        #     f.create_dataset('events_indices', data=event_sparse.indices, compression=\"gzip\", compression_opts=9)\n",
    "        #     f.create_dataset('events_indptr', data=event_sparse.indptr, compression=\"gzip\", compression_opts=9)\n",
    "        #     f.create_dataset('events_shape', data=event_sparse.shape, compression=\"gzip\", compression_opts=9)\n",
    "        #     f.create_dataset(\"event_rows\", data=np.array(event_row, dtype='S'), compression=\"gzip\", compression_opts=9)\n",
    "        #     f.create_dataset(\"event_columns\", data=np.array(event_columns, dtype='S'), compression=\"gzip\", compression_opts=9)\n",
    "\n",
    "        # with h5py.File(f\"{output_dir}/species_{count}.h5\", \"w\") as f:\n",
    "        #     species_sparse = csr_matrix(species)\n",
    "        #     f.create_dataset('species_data', data=species_sparse.data, compression=\"gzip\", compression_opts=9)\n",
    "        #     f.create_dataset('species_indices', data=species_sparse.indices, compression=\"gzip\", compression_opts=9)\n",
    "        #     f.create_dataset('species_indptr', data=species_sparse.indptr, compression=\"gzip\", compression_opts=9)\n",
    "        #     f.create_dataset('species_shape', data=species_sparse.shape, compression=\"gzip\", compression_opts=9)\n",
    "        #     f.create_dataset(\"species_rows\", data=np.array(species_row, dtype='S'), compression=\"gzip\", compression_opts=9)\n",
    "        #     f.create_dataset(\"species_columns\", data=np.array(species_col, dtype='S'), compression=\"gzip\", compression_opts=9)\n",
    "                \n",
    "        # with h5py.File(f\"{output_dir}/adjacency_{count}.h5\", \"w\") as f:\n",
    "        #     adjacency_sparse = csr_matrix(adjacency)\n",
    "        #     f.create_dataset('adjacency_data', data=adjacency_sparse.data, compression=\"gzip\", compression_opts=9)\n",
    "        #     f.create_dataset('adjacency_indices', data=adjacency_sparse.indices, compression=\"gzip\", compression_opts=9)\n",
    "        #     f.create_dataset('adjacency_indptr', data=adjacency_sparse.indptr, compression=\"gzip\", compression_opts=9)\n",
    "        #     f.create_dataset('adjacency_shape', data=adjacency_sparse.shape, compression=\"gzip\", compression_opts=9)\n",
    "        #     f.create_dataset(\"parent\", data=np.array(parent, dtype='S'), compression=\"gzip\", compression_opts=9)\n",
    "        #     # f.create_dataset(\"child\", data=np.array(parent, dtype='S'), compression=\"gzip\", compression_opts=9)\n",
    "\n",
    "        # with h5py.File(f\"{output_dir}/species_internal_{count}.h5\", \"w\") as f:\n",
    "        #     species_internal_sparse = csr_matrix(species_internal)\n",
    "        #     f.create_dataset('species_internal_data', data=species_internal_sparse.data, compression=\"gzip\", compression_opts=9)\n",
    "        #     f.create_dataset('species_internal_indices', data=species_internal_sparse.indices, compression=\"gzip\", compression_opts=9)\n",
    "        #     f.create_dataset('species_internal_indptr', data=species_internal_sparse.indptr, compression=\"gzip\", compression_opts=9)\n",
    "        #     f.create_dataset('species_internal_shape', data=species_internal_sparse.shape, compression=\"gzip\", compression_opts=9)\n",
    "        #     f.create_dataset(\"species_internal_row\", data=np.array(species_internal_row, dtype='S'), compression=\"gzip\", compression_opts=9)'\n",
    "\n",
    "        # print(f\"Saving files: {toc - tic:0.4f} seconds\")\n",
    "\n",
    "    # npz files\n",
    "    # if save_files:\n",
    "    #     if not os.path.exists(f\"{output_dir}/\"):\n",
    "    #         os.makedirs(f\"{output_dir}/\")\n",
    "    #     event_sparse = csr_matrix(events)        \n",
    "    #     save_npz(f'{output_dir}/events.npz', event_sparse)\n",
    "    #     np.save(f'{output_dir}/event_row.npy', event_row)\n",
    "    #     np.save(f'{output_dir}/event_columns.npy', event_columns)\n",
    "\n",
    "    #     species_sparse = csr_matrix(species)        \n",
    "    #     save_npz(f'{output_dir}/species.npz', species_sparse)\n",
    "    #     np.save(f'{output_dir}/species_row.npy', species_row)\n",
    "    #     np.save(f'{output_dir}/species_columns.npy', species_col)\n",
    "\n",
    "    #     adjacency_sparse = csr_matrix(adjacency)        \n",
    "    #     save_npz(f'{output_dir}/adjacency.npz', adjacency_sparse)\n",
    "    #     np.save(f'{output_dir}/adjacency_indices.npy', parent)\n",
    "    #     # np.save(f'{output_dir}/adjacency_columns.npy', child)\n",
    "\n",
    "    else:\n",
    "        return tree, events, event_row, event_columns, species, species_row, species_col, species_internal, species_internal_row, adjacency, parent\n",
    "    "
   ]
  },
  {
   "cell_type": "code",
   "execution_count": null,
   "metadata": {},
   "outputs": [],
   "source": [
    "tree_str = \"(((((ENSXMAP00000023154:0.003798[&&NHX:D=N:G=ENSXMAG00000029135:T=8083],ENSXCOP00000022609:0.005509[&&NHX:D=N:G=ENSXCOG00000016899:T=32473]):0.183284[&&NHX:D=N:B=100:T=8082],ENSPREP00000021178:0.084207[&&NHX:D=N:G=ENSPREG00000014319:T=8081]):0.097357[&&NHX:D=N:B=96:T=586240],ENSOJAP00000021525:0.241724[&&NHX:D=N:G=ENSOJAG00000011071:T=123683]):0.166728[&&NHX:D=N:B=89:T=1489913],ENSBSLP00000031907:0.317255[&&NHX:D=N:G=ENSBSLG00000015692:T=158456]):0.0954935[&&NHX:D=N:B=93:T=1489872],(((ENSOCUP00000048526:0.075568[&&NHX:D=N:G=ENSOCUG00000032515:T=9986],ENSPEMP00000032668:0.223749[&&NHX:D=N:G=ENSPEMG00000024427:T=230844]):0.020571[&&NHX:D=N:B=14:T=314147],(((((((ENSMLEP00000032590:0.002705[&&NHX:D=N:G=ENSMLEG00000040506:T=9568],ENSCATP00000005008:0.002706[&&NHX:D=N:G=ENSCATG00000016933:T=9531]):0[&&NHX:D=N:B=75:T=9528],ENSMNEP00000009280:0.008163[&&NHX:D=N:G=ENSMNEG00000029102:T=9545]):0.007223[&&NHX:D=N:B=67:T=9528],(ENSRBIP00000014183:0[&&NHX:D=N:G=ENSRBIG00000031198:T=61621],ENSRROP00000004625:0.008118[&&NHX:D=N:G=ENSRROG00000019173:T=61622]):0.009148[&&NHX:D=N:B=99:T=542827]):0.008681[&&NHX:D=N:B=77:T=9527],(((ENSPPAP00000008835:0[&&NHX:D=N:G=ENSPPAG00000027666:T=9597],ENSPTRP00000065716:0[&&NHX:D=N:G=ENSPTRG00000043129:T=9598]):0.003148[&&NHX:D=N:B=98:T=9596],ENSGGOP00000045929:0.007554[&&NHX:D=N:G=ENSGGOG00000036615:T=9595]):0.003046[&&NHX:D=N:B=97:T=207598],ENSNLEP00000044342:0.022034[&&NHX:D=N:G=ENSNLEG00000031632:T=61853]):0.020141[&&NHX:D=N:B=93:T=314295]):0.002521[&&NHX:D=N:B=31:T=9526],((ENSSBOP00000017696:0.010962[&&NHX:D=N:G=ENSSBOG00000025494:T=39432],ENSCCAP00000009427:0.013385[&&NHX:D=N:G=ENSCCAG00000022455:T=2715852]):0[&&NHX:D=N:B=98:T=9498],ENSANAP00000042340:0.022526[&&NHX:D=N:G=ENSANAG00000038453:T=37293]):0.006841[&&NHX:D=N:B=84:T=9479]):0.049508[&&NHX:D=N:B=33:T=314293],ENSTSYP00000020254:0.070134[&&NHX:D=N:G=ENSTSYG00000028801:T=1868482]):0.02796[&&NHX:D=N:B=81:T=376913],(ENSPCOP00000028138:0.042488[&&NHX:D=N:G=ENSPCOG00000026660:T=379532],ENSMICP00000022845:0.061846[&&NHX:D=N:G=ENSMICG00000026747:T=30608]):0.030486[&&NHX:D=N:B=84:T=376915]):0.023044[&&NHX:D=N:B=41:T=9443]):0.018311[&&NHX:D=N:B=10:T=314146],(((((ENSCAFP00020019180:0[&&NHX:D=N:G=ENSCAFG00020015228:T=286419],ENSCAFP00845000643:0[&&NHX:D=N:G=ENSCAFG00845000527:T=9615]):0.156455[&&NHX:D=N:B=100:T=9612],ENSNVIP00000014581:0.141636[&&NHX:D=N:G=ENSNVIG00000011446:T=452646]):0[&&NHX:D=N:B=3:T=379584],ENSPPRP00000022180:0.093979[&&NHX:D=N:G=ENSPPRG00000012771:T=9691]):0.023937[&&NHX:D=N:B=0:T=33554],ENSRFEP00010028870:0.193458[&&NHX:D=N:G=ENSRFEG00010019164:T=59479]):0.006404[&&NHX:D=N:B=0:T=314145],((((((ENSBIXP00005040091:0[&&NHX:D=N:G=ENSBIXG00005022637:T=30522],ENSBTAP00000068471:0[&&NHX:D=N:G=ENSBTAG00000053937:T=9913]):0[&&NHX:D=N:B=100:T=9903],ENSBMUP00000019409:0.011437[&&NHX:D=N:G=ENSBMUG00000014671:T=72004]):0.051785[&&NHX:D=N:B=100:T=9903],ENSCHIP00000007234:0.057798[&&NHX:D=N:G=ENSCHIG00000010813:T=9925]):0.019898[&&NHX:D=N:B=79:T=9895],ENSMMSP00000011301:0.118558[&&NHX:D=N:G=ENSMMSG00000008670:T=68415]):0.022114[&&NHX:D=N:B=22:T=35500],ENSCHYP00000037892:0.107299[&&NHX:D=N:G=ENSCHYG00000025218:T=84702]):0.177423[&&NHX:D=N:B=33:T=35500],ENSBMSP00010012664:0.111443[&&NHX:D=N:G=ENSBMSG00010009296:T=9771]):0.032228[&&NHX:D=N:B=71:T=91561]):0.034169[&&NHX:D=N:B=2:T=314145]):0.16388[&&NHX:D=N:B=29:T=1437010]):0[&&NHX:D=N:B=0:T=117571];\"\n",
    "\n",
    "# tree, events, event_row, event_columns, species, species_row, species_col, species_internal, species_internal_row, adjacency, parent = create_matrices(tree_str, species_id_dict, print_tree=True, save_files=False, output_dir=\"./out\")\n",
    "create_matrices(tree_str, species_id_dict, print_tree=True, save_files=True, output_dir=\"./out\")\n",
    "\n",
    "# 0.8 seconds (if not saving file)\n",
    "# 1.0 seconds (if saving file)"
   ]
  },
  {
   "cell_type": "code",
   "execution_count": 3,
   "metadata": {},
   "outputs": [],
   "source": [
    "import h5py\n",
    "\n",
    "def print_h5py_file(filename, matrix_name, cols=[]):\n",
    "    with h5py.File(filename, \"r\") as f:\n",
    "        # matrix = np.array(f[f\"{matrix_name}_data\"])\n",
    "        indices = np.array(f[f\"{matrix_name}_indices\"])\n",
    "        indptr = np.array(f[f\"{matrix_name}_indptr\"])\n",
    "        rows = np.array(f[f\"{matrix_name}_rows\"]).astype('S').astype('U')  \n",
    "        if matrix_name == \"species\":\n",
    "            cols = np.array(f[f\"{matrix_name}_columns\"]).astype('S').astype('U')  \n",
    "        elif matrix_name == \"species_internal\":\n",
    "            filename = filename.replace(\"species_internal\", \"species\")\n",
    "            data = np.array(f[f\"{matrix_name}_data\"])\n",
    "            shape = np.array(f[f\"{matrix_name}_shape\"])\n",
    "        \n",
    "    if matrix_name == \"events\":\n",
    "        cols = [\"leaf\", \"duplication\", \"speciation\"]\n",
    "    elif matrix_name == \"adjacency\":\n",
    "        cols = rows\n",
    "    if matrix_name != \"species_internal\": \n",
    "        df = pd.DataFrame(0, index=rows, columns=cols)\n",
    "        for i, j in zip(indices, indptr):\n",
    "            df.loc[rows[j], cols[i]] = 1\n",
    "    else: \n",
    "        original_array = csr_matrix((data, indices, indptr), shape=tuple(shape)).toarray()\n",
    "        df = pd.DataFrame(original_array, index=rows, columns=cols)\n",
    "    return df, indices, indptr, rows, cols\n",
    "\n",
    "e_df ,e_index, e_indptr, e_rows, e_cols = print_h5py_file(\"brain/50/events_0.h5\", \"events\")\n",
    "a_df, a_index, a_indptr, a_rows, a_cols = print_h5py_file(\"brain/50/adjacency_1.h5\", \"adjacency\")\n",
    "s_df, s_index, s_indptr, s_rows, s_cols = print_h5py_file(\"brain/50/species_1.h5\", \"species\")\n",
    "i_df, i_index, i_indptr, i_rows, i_cols = print_h5py_file(\"brain/50/species_internal_1.h5\", \"species_internal\", cols=s_cols)\n"
   ]
  },
  {
   "cell_type": "code",
   "execution_count": null,
   "metadata": {},
   "outputs": [],
   "source": [
    "print(i_index, i_indptr)\n",
    "# create dataframe of size len(rows) x len(cols) and fill in 1's at indices\n",
    "e_cols = [\"leaf\", \"duplication\", \"speciation\"]\n",
    "e_rows_str = [i.decode(\"utf-8\") for i in e_rows]\n",
    "\n",
    "e_df = pd.DataFrame(0, index=e_rows_str, columns=e_cols)\n",
    "for i, j in zip(e_index, e_indptr):\n",
    "    e_df.loc[e_rows_str[j], e_cols[i]] = 1\n",
    "e_df"
   ]
  },
  {
   "cell_type": "code",
   "execution_count": null,
   "metadata": {},
   "outputs": [],
   "source": [
    "from scipy.sparse import load_npz\n",
    "# load npz files\n",
    "event_sparse = load_npz('test_100/1/events.npz')\n",
    "species_sparse = load_npz('test_100/1/species.npz')\n",
    "adjacency_sparse = load_npz('test_100/1/adjacency.npz')\n",
    "event_row = np.load('test_100/1/event_row.npy', allow_pickle=True)\n",
    "event_columns = np.load('test_100/1/event_columns.npy', allow_pickle=True)\n",
    "species_row = np.load('test_100/1/species_row.npy', allow_pickle=True)\n",
    "species_columns = np.load('test_100/1/species_columns.npy', allow_pickle=True)\n",
    "adjacency_row = np.load('test_100/1/adjacency_row.npy', allow_pickle=True)\n",
    "adjacency_columns = np.load('test_100/1/adjacency_columns.npy', allow_pickle=True)\n",
    "\n",
    "# print\n",
    "print(event_sparse)\n",
    "print(event_row)\n",
    "print(event_columns)\n",
    "print(species_sparse)\n",
    "print(species_row)\n",
    "print(species_columns)\n",
    "print(adjacency_sparse)\n",
    "print(adjacency_row)\n",
    "print(adjacency_columns)\n"
   ]
  },
  {
   "cell_type": "markdown",
   "metadata": {},
   "source": [
    "# Testing\n",
    "- 100 trees"
   ]
  },
  {
   "cell_type": "code",
   "execution_count": null,
   "metadata": {},
   "outputs": [],
   "source": [
    "# full dataset\n",
    "import gzip as gz\n",
    "with gz.open(\"../trees.txt.gz\", \"r\") as f:\n",
    "    lines = f.readlines()\n",
    "    trees = [line.decode(\"utf-8\").strip() for line in lines]\n"
   ]
  },
  {
   "cell_type": "code",
   "execution_count": null,
   "metadata": {},
   "outputs": [],
   "source": [
    "import os\n",
    "i = 0\n",
    "for tree_str in trees:\n",
    "    if i < 100: i += 1\n",
    "    else: break\n",
    "    # tree = Phylo.read(StringIO(tree_str), \"newick\")     \n",
    "    if not os.path.exists(f\"./test_100/{i}/\"):\n",
    "        os.makedirs(f\"./test_100/{i}/\")\n",
    "    create_matrices(tree_str, species_id_dict, i, print_tree=False, save_files=True, output_dir=f\"./test_100/{i}\")\n"
   ]
  },
  {
   "cell_type": "code",
   "execution_count": null,
   "metadata": {},
   "outputs": [],
   "source": [
    "test = trees[0]\n",
    "tree, events, event_row, event_columns, species, species_row, species_col, adjacency, parent, child = create_matrices(tree_str, species_id_dict, i, print_tree=False, save_files=False, output_dir=f\"./trees/{i}/\")"
   ]
  },
  {
   "cell_type": "code",
   "execution_count": null,
   "metadata": {},
   "outputs": [],
   "source": [
    "import sys\n",
    "sys.getsizeof(parent)\n",
    "sys.getsizeof(child)\n",
    "adjacency.nbytes"
   ]
  },
  {
   "cell_type": "markdown",
   "metadata": {},
   "source": [
    "# Checking overlap between species in gene trees and brain size dataset"
   ]
  },
  {
   "cell_type": "code",
   "execution_count": 1,
   "metadata": {},
   "outputs": [],
   "source": [
    "import sys\n",
    "sys.path.append('../scripts')\n",
    "from create_matrices import Matrix\n",
    "import gzip as gz\n",
    "import regex as re\n",
    "from io import StringIO\n",
    "from Bio import Phylo\n",
    "import pandas as pd"
   ]
  },
  {
   "cell_type": "code",
   "execution_count": 2,
   "metadata": {},
   "outputs": [
    {
     "name": "stderr",
     "output_type": "stream",
     "text": [
      "C:\\Users\\bunan\\AppData\\Local\\Temp\\ipykernel_37704\\474406252.py:4: FutureWarning: DataFrame.applymap has been deprecated. Use DataFrame.map instead.\n",
      "  brain_size_df = brain_size_df.applymap(lambda x: x.lower() if isinstance(x, str) else x)\n",
      "C:\\Users\\bunan\\AppData\\Local\\Temp\\ipykernel_37704\\474406252.py:5: FutureWarning: DataFrame.applymap has been deprecated. Use DataFrame.map instead.\n",
      "  ensembl_df = ensembl_df.applymap(lambda x: x.lower() if isinstance(x, str) else x)\n"
     ]
    }
   ],
   "source": [
    "brain_size_df = pd.read_csv(\"../data/gyz043_suppl_Supplement_Data.csv\", header=0)\n",
    "species_id = pd.read_csv(\"../data/species_id_gene_id.tsv.gz\", compression=\"gzip\",header=0, delimiter=\"\\t\")\n",
    "ensembl_df = species_id.copy()\n",
    "brain_size_df = brain_size_df.applymap(lambda x: x.lower() if isinstance(x, str) else x)\n",
    "ensembl_df = ensembl_df.applymap(lambda x: x.lower() if isinstance(x, str) else x)\n",
    "ensembl_df.columns = [\"Binomial\", \"species_id\", \"gene_id\", \"gene\"]\n",
    "merged = pd.merge(brain_size_df, ensembl_df,on=\"Binomial\", how=\"inner\")\n",
    "brain_size_species = merged[\"Binomial\"].unique()\n",
    "species_id.set_index(\"transcript_id\", inplace=True)\n",
    "species_id_dict = species_id[\"species\"].to_dict()"
   ]
  },
  {
   "cell_type": "code",
   "execution_count": 3,
   "metadata": {},
   "outputs": [
    {
     "data": {
      "text/plain": [
       "array(['echinops_telfairi', 'bos_taurus', 'camelus_dromedarius',\n",
       "       'capra_hircus', 'sus_scrofa', 'bos_grunniens', 'ursus_maritimus',\n",
       "       'vulpes_vulpes', 'panthera_pardus', 'ursus_americanus',\n",
       "       'neovison_vison', 'felis_catus', 'ailuropoda_melanoleuca',\n",
       "       'panthera_leo', 'tursiops_truncatus', 'delphinapterus_leucas',\n",
       "       'monodon_monoceros', 'balaenoptera_musculus', 'physeter_catodon',\n",
       "       'rhinolophus_ferrumequinum', 'pteropus_vampyrus',\n",
       "       'myotis_lucifugus', 'dasypus_novemcinctus', 'sarcophilus_harrisii',\n",
       "       'phascolarctos_cinereus', 'vombatus_ursinus',\n",
       "       'erinaceus_europaeus', 'procavia_capensis', 'ochotona_princeps',\n",
       "       'oryctolagus_cuniculus', 'ornithorhynchus_anatinus',\n",
       "       'equus_asinus', 'equus_caballus', 'choloepus_hoffmanni',\n",
       "       'callithrix_jacchus', 'otolemur_garnettii',\n",
       "       'propithecus_coquereli', 'chlorocebus_sabaeus',\n",
       "       'macaca_fascicularis', 'macaca_mulatta', 'rhinopithecus_roxellana',\n",
       "       'mandrillus_leucophaeus', 'pan_paniscus', 'pan_troglodytes',\n",
       "       'gorilla_gorilla', 'homo_sapiens', 'pongo_abelii',\n",
       "       'microcebus_murinus', 'prolemur_simus', 'cercocebus_atys',\n",
       "       'macaca_nemestrina', 'papio_anubis', 'loxodonta_africana',\n",
       "       'microtus_ochrogaster', 'dipodomys_ordii', 'jaculus_jaculus',\n",
       "       'sciurus_vulgaris', 'cavia_porcellus', 'mus_musculus',\n",
       "       'mesocricetus_auratus', 'octodon_degus', 'chinchilla_lanigera',\n",
       "       'rattus_norvegicus', 'sorex_araneus'], dtype=object)"
      ]
     },
     "execution_count": 3,
     "metadata": {},
     "output_type": "execute_result"
    }
   ],
   "source": [
    "merged = pd.merge(brain_size_df, ensembl_df,on=\"Binomial\", how=\"inner\")\n",
    "brain_size_species = merged[\"Binomial\"].unique()\n",
    "brain_size_species"
   ]
  },
  {
   "cell_type": "code",
   "execution_count": 4,
   "metadata": {},
   "outputs": [],
   "source": [
    "import gzip as gz\n",
    "with gz.open(\"../data/trees.txt.gz\", \"r\") as f:\n",
    "    trees = [line.decode(\"utf-8\").strip() for line in f.readlines() if not \"--\" in line.decode(\"utf-8\").strip()]\n",
    "    sorted_list = sorted([line.decode(\"utf-8\").strip() for line in f.readlines() if not \"--\" in line.decode(\"utf-8\").strip()], key=lambda x: len(x))\n",
    "\n",
    "\n",
    "\n"
   ]
  },
  {
   "cell_type": "code",
   "execution_count": 5,
   "metadata": {},
   "outputs": [],
   "source": [
    "# Plot number of species in each tree\n",
    "\n",
    "counts = {}\n",
    "i = 0\n",
    "\n",
    "for tree_str in trees:\n",
    "    species_in_tree = []\n",
    "    tree_str = re.sub(r\"\\s+\", \"\", tree_str)\n",
    "    tree = Phylo.read(StringIO(tree_str), \"newick\")\n",
    "    for clade in tree.get_terminals():\n",
    "        i += 1\n",
    "        try: species_in_tree.append(species_id_dict[clade.name])\n",
    "        except: pass\n",
    "    num = set(species_in_tree)\n",
    "    if i == 20: \n",
    "        print(tree_str)\n",
    "        break\n",
    "    counts[len(num)] = counts.get(len(num), 0) + 1    \n",
    "\n"
   ]
  },
  {
   "cell_type": "code",
   "execution_count": 6,
   "metadata": {},
   "outputs": [
    {
     "data": {
      "image/png": "[encoded data removed]",
      "text/plain": [
       "<Figure size 640x480 with 1 Axes>"
      ]
     },
     "metadata": {},
     "output_type": "display_data"
    },
    {
     "data": {
      "text/plain": [
       "12576"
      ]
     },
     "execution_count": 6,
     "metadata": {},
     "output_type": "execute_result"
    }
   ],
   "source": [
    "\n",
    "sorted_dict = dict(sorted(counts.items()))\n",
    "del sorted_dict[1]\n",
    "del sorted_dict[2]\n",
    "del sorted_dict[3]\n",
    "del sorted_dict[4]\n",
    "\n",
    "\n",
    "import matplotlib.pyplot as plt\n",
    "plt.bar(sorted_dict.keys(), sorted_dict.values())\n",
    "plt.xlabel(\"Number of species\")\n",
    "plt.ylabel(\"Number of trees\") \n",
    "plt.title(\"Number of species in trees: Compara\")\n",
    "plt.show()\n",
    "# 54673 trees \n",
    "\n",
    "greater_than_60 = {k: v for k, v in sorted_dict.items() if k > 100}\n",
    "sum(greater_than_60.values())"
   ]
  },
  {
   "cell_type": "code",
   "execution_count": 7,
   "metadata": {},
   "outputs": [],
   "source": [
    "# import gzip as gz\n",
    "# import regex as re\n",
    "\n",
    "count_brain = {}\n",
    "trees_w_threshold = {i: [] for i in range(50, 65)}\n",
    "with gz.open(\"../data/trees.txt.gz\", \"r\") as f:\n",
    "    for line in f:\n",
    "        line = line.decode(\"utf-8\").strip()\n",
    "        species_in_tree = []\n",
    "        tree_str = re.sub(r\"\\s+\", \"\", line)\n",
    "        tree = Phylo.read(StringIO(tree_str), \"newick\")\n",
    "        for clade in tree.get_terminals():\n",
    "            try: species_in_tree.append(species_id_dict[clade.name])\n",
    "            except: pass\n",
    "        num = set(species_in_tree).intersection(brain_size_species)\n",
    "        try: \n",
    "            if len(num) >=50: trees_w_threshold[len(num)].append(line)\n",
    "        except: pass\n",
    "        count_brain[len(num)] = count_brain.get(len(num), 0) + 1   \n"
   ]
  },
  {
   "cell_type": "code",
   "execution_count": 8,
   "metadata": {},
   "outputs": [
    {
     "data": {
      "image/png": "[encoded data removed]",
      "text/plain": [
       "<Figure size 640x480 with 1 Axes>"
      ]
     },
     "metadata": {},
     "output_type": "display_data"
    },
    {
     "data": {
      "image/png": "[encoded data removed]",
      "text/plain": [
       "<Figure size 640x480 with 1 Axes>"
      ]
     },
     "metadata": {},
     "output_type": "display_data"
    }
   ],
   "source": [
    "# Plot trees with x number of species in brain size data\n",
    "sorted_dict = dict(sorted(count_brain.items()))\n",
    "del sorted_dict[0]\n",
    "\n",
    "import matplotlib.pyplot as plt\n",
    "plt.bar(sorted_dict.keys(), sorted_dict.values())\n",
    "plt.xlabel(\"Threshold: Number of species in tree\")\n",
    "plt.ylabel(\"Number of trees\") \n",
    "plt.title(\"Number of species in trees: Gys something or other\")\n",
    "plt.show()\n",
    "\n",
    "# Plot reverse cdf thing\n",
    "threshold = {i:0 for i in count_brain.keys()}\n",
    "for key, value in count_brain.items():\n",
    "    threshold[key] = sum([v for k, v, in count_brain.items() if k >= key])\n",
    "\n",
    "import matplotlib.pyplot as plt\n",
    "plt.bar(threshold.keys(), threshold.values())\n",
    "plt.xlabel(\"More than x species in tree and brain dataset\")\n",
    "plt.ylabel(\"Number of trees\") \n",
    "plt.title(\"Number of species in trees: Gys something or other\")\n",
    "plt.show()"
   ]
  },
  {
   "cell_type": "code",
   "execution_count": null,
   "metadata": {},
   "outputs": [],
   "source": []
  },
  {
   "cell_type": "code",
   "execution_count": null,
   "metadata": {},
   "outputs": [],
   "source": []
  }
 ],
 "metadata": {
  "kernelspec": {
   "display_name": "ete3",
   "language": "python",
   "name": "python3"
  },
  "language_info": {
   "codemirror_mode": {
    "name": "ipython",
    "version": 3
   },
   "file_extension": ".py",
   "mimetype": "text/x-python",
   "name": "python",
   "nbconvert_exporter": "python",
   "pygments_lexer": "ipython3",
   "version": "3.10.14"
  }
 },
 "nbformat": 4,
 "nbformat_minor": 2
}
